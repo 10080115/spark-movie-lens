{
 "metadata": {
  "name": "",
  "signature": "sha256:e478267cd818799ed0384133232993bd90a5664e5ddff897dfe847ddbd5deaff"
 },
 "nbformat": 3,
 "nbformat_minor": 0,
 "worksheets": [
  {
   "cells": [
    {
     "cell_type": "heading",
     "level": 1,
     "metadata": {},
     "source": [
      "On-line recommendations using Spark & Flask"
     ]
    },
    {
     "cell_type": "markdown",
     "metadata": {},
     "source": [
      "This tutorial goes into detail into how to use Spark machine learning models, or even other kind of data anlytics objects, within a web service. This open the door to on-line predictions, recommendations, etc. By using the Python language, we make this task very easy, thanks to Spark own Python capabilities, and to Python-based frameworks such as Flask. "
     ]
    },
    {
     "cell_type": "markdown",
     "metadata": {},
     "source": [
      "This tutorial can be used independently, to build web-services on top of any kind of Spark models. However, it combines powerfully with our tutorial on using Spark MLlib to build a movie recommender model based on the MovieLens dataset. By doing so, you will be able to develop a complete **on-line movie recommendation service**.  "
     ]
    },
    {
     "cell_type": "heading",
     "level": 2,
     "metadata": {},
     "source": [
      "A recommendation engine"
     ]
    },
    {
     "cell_type": "markdown",
     "metadata": {},
     "source": [
      "[This section explains the role of the RecommendationEngine class, together with its API]"
     ]
    },
    {
     "cell_type": "heading",
     "level": 3,
     "metadata": {},
     "source": [
      "Loading the model"
     ]
    },
    {
     "cell_type": "markdown",
     "metadata": {},
     "source": [
      "We need to load our previously persisted model in order to use it for recommendations. We will do that in the `__init__` method of our `RecommendationEngine` class.  "
     ]
    },
    {
     "cell_type": "code",
     "collapsed": false,
     "input": [
      "from pyspark.mllib.recommendation import MatrixFactorizationModel\n",
      "\n",
      "class RecommendationEngine:\n",
      "    \"\"\"\n",
      "    A movie recommendation engine\n",
      "    \"\"\"\n",
      "    \n",
      "    def __init__(self, spark_context, model_file):\n",
      "        \"\"\"\n",
      "        Init the recommendation engine given a Spark context\n",
      "        \"\"\"\n",
      "        self.sc = spark_context\n",
      "        # load ALS model from file\n",
      "        self.model = MatrixFactorizationModel.load(model_file)"
     ],
     "language": "python",
     "metadata": {},
     "outputs": [],
     "prompt_number": 3
    },
    {
     "cell_type": "markdown",
     "metadata": {},
     "source": [
      "Pretty simple, isn't it? We just passed a Spark context object and a file name that we use to load the ALS model and keep it for later use in the class API.  "
     ]
    },
    {
     "cell_type": "heading",
     "level": 3,
     "metadata": {},
     "source": [
      "Making recommendations"
     ]
    },
    {
     "cell_type": "markdown",
     "metadata": {},
     "source": [
      "We explained how to make recommendations with our ALS model in the tutorial about building the movie recommender. Here, we will basically repeat the same code wrapped inside a method of our `RecommendationEnginer` class."
     ]
    },
    {
     "cell_type": "code",
     "collapsed": false,
     "input": [
      "def recommend_movies(self):\n",
      "    pass\n",
      "\n",
      "# Attach the function to a class method\n",
      "RecommendationEngine.recommend_movies = recommend_movies"
     ],
     "language": "python",
     "metadata": {},
     "outputs": [],
     "prompt_number": 4
    },
    {
     "cell_type": "heading",
     "level": 2,
     "metadata": {},
     "source": [
      "Building a web API around our engine using Flask"
     ]
    },
    {
     "cell_type": "markdown",
     "metadata": {},
     "source": [
      "[This section introduces Flask and how do we use it to easily define a RESTful API]"
     ]
    },
    {
     "cell_type": "heading",
     "level": 2,
     "metadata": {},
     "source": [
      "Deploying a WSGI server using CherryPy"
     ]
    },
    {
     "cell_type": "markdown",
     "metadata": {},
     "source": [
      "Among other things, the [CherryPy framework](http://www.cherrypy.org/) features a reliable, HTTP/1.1-compliant, WSGI thread-pooled webserver. It is also easy to run multiple HTTP servers (e.g. on multiple ports) at once. All this makes it a perfect candidate for an easy to deploy production web server for our on-line recommendation service.  "
     ]
    },
    {
     "cell_type": "heading",
     "level": 3,
     "metadata": {},
     "source": [
      "Some considerations when using multiple Scripts and Spark-submit"
     ]
    },
    {
     "cell_type": "markdown",
     "metadata": {},
     "source": [
      "[explain the pythonList param]"
     ]
    },
    {
     "cell_type": "markdown",
     "metadata": {},
     "source": [
      "[explain that we cannot pass object methods to RDD transformation map, filter, etc]"
     ]
    },
    {
     "cell_type": "heading",
     "level": 3,
     "metadata": {},
     "source": [
      "Server configuration and initialisation"
     ]
    },
    {
     "cell_type": "code",
     "collapsed": false,
     "input": [],
     "language": "python",
     "metadata": {},
     "outputs": [],
     "prompt_number": 1
    },
    {
     "cell_type": "heading",
     "level": 3,
     "metadata": {},
     "source": [
      "Running the server with Spark"
     ]
    },
    {
     "cell_type": "code",
     "collapsed": false,
     "input": [],
     "language": "python",
     "metadata": {},
     "outputs": []
    },
    {
     "cell_type": "heading",
     "level": 2,
     "metadata": {},
     "source": [
      "Getting the source code"
     ]
    },
    {
     "cell_type": "markdown",
     "metadata": {},
     "source": [
      "[link to three different GISTs]"
     ]
    }
   ],
   "metadata": {}
  }
 ]
}