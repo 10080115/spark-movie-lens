{
 "metadata": {
  "name": "",
  "signature": "sha256:e6f2b309b4717386c603f923893a2eee1ae2ee66e19656c2c20bca449b5710cc"
 },
 "nbformat": 3,
 "nbformat_minor": 0,
 "worksheets": [
  {
   "cells": [
    {
     "cell_type": "heading",
     "level": 1,
     "metadata": {},
     "source": [
      "On-line recommendations using Spark & Flask"
     ]
    },
    {
     "cell_type": "markdown",
     "metadata": {},
     "source": [
      "This tutorial goes into detail into how to use Spark machine learning models, or even other kind of data anlytics objects, within a web service. This open the door to on-line predictions, recommendations, etc. By using the Python language, we make this task very easy, thanks to Spark own Python capabilities, and to Python-based frameworks such as Flask. "
     ]
    },
    {
     "cell_type": "markdown",
     "metadata": {},
     "source": [
      "This tutorial can be used independently, to build web-services on top of any kind of Spark models. However, it combines powerfully with our tutorial on using Spark MLlib to build a movie recommender model based on the MovieLens dataset. By doing so, you will be able to develop a complete **on-line movie recommendation service**.  "
     ]
    },
    {
     "cell_type": "heading",
     "level": 2,
     "metadata": {},
     "source": [
      "A recommendation engine"
     ]
    },
    {
     "cell_type": "markdown",
     "metadata": {},
     "source": [
      "At the core of our movie recommendation web service resides a recommendation engine (i.e. `engine.py` in our final deployment). It is represented by the class `RecommendationEngine` and this section will describe step by step how its functionality and implementation.  "
     ]
    },
    {
     "cell_type": "heading",
     "level": 3,
     "metadata": {},
     "source": [
      "Starting the engine"
     ]
    },
    {
     "cell_type": "markdown",
     "metadata": {},
     "source": [
      "When the engine is initialised, we need to load our previously persisted model in order to use it for recommendations. We will do that in the `__init__` method of our `RecommendationEngine` class. At the same time, we need to load or precompute any RDDs that will be used later on to make recommendations.    "
     ]
    },
    {
     "cell_type": "code",
     "collapsed": false,
     "input": [
      "from pyspark.mllib.recommendation import MatrixFactorizationModel\n",
      "\n",
      "class RecommendationEngine:\n",
      "    \"\"\"\n",
      "    A movie recommendation engine\n",
      "    \"\"\"\n",
      "    \n",
      "    def __init__(self, spark_context, model_file):\n",
      "        \"\"\"\n",
      "        Init the recommendation engine given a Spark context\n",
      "        \"\"\"\n",
      "        self.sc = spark_context\n",
      "        # load ALS model from file\n",
      "        self.model = MatrixFactorizationModel.load(model_file)"
     ],
     "language": "python",
     "metadata": {},
     "outputs": [],
     "prompt_number": 7
    },
    {
     "cell_type": "markdown",
     "metadata": {},
     "source": [
      "Pretty simple, isn't it? We just passed a Spark context object and a file name that we use to load the ALS model and keep it for later use in the class API.  "
     ]
    },
    {
     "cell_type": "heading",
     "level": 3,
     "metadata": {},
     "source": [
      "Adding new ratings"
     ]
    },
    {
     "cell_type": "markdown",
     "metadata": {},
     "source": [
      "When using *Collaborative Filtering* and Spark's *Alternating Least Squares*, we need to recompute the prediction model for every new batch of user ratings. This was explained in our previous tutorial on building the model.  "
     ]
    },
    {
     "cell_type": "code",
     "collapsed": false,
     "input": [
      "def add_ratings(self, user_ratings):\n",
      "    \"\"\"\n",
      "    Add additional movie ratings in the format (user_id, movie_id, rating)\n",
      "    \"\"\"\n",
      "    pass\n",
      "\n",
      "# Attach the function to a class method\n",
      "RecommendationEngine.add_ratings = add_ratings"
     ],
     "language": "python",
     "metadata": {},
     "outputs": [],
     "prompt_number": 8
    },
    {
     "cell_type": "heading",
     "level": 3,
     "metadata": {},
     "source": [
      "Making recommendations"
     ]
    },
    {
     "cell_type": "markdown",
     "metadata": {},
     "source": [
      "We also explained how to make recommendations with our ALS model in the tutorial about building the movie recommender. Here, we will basically repeat the same code wrapped inside a method of our `RecommendationEnginer` class."
     ]
    },
    {
     "cell_type": "code",
     "collapsed": false,
     "input": [
      "def get_top_recommendations(self, user_id, movies_count):\n",
      "    \"\"\"\n",
      "    Recommends up to movies_count top unrated movies to user_id\n",
      "    \"\"\"\n",
      "    pass\n",
      "\n",
      "# Attach the function to a class method\n",
      "RecommendationEngine.get_top_recommendations = get_top_recommendations"
     ],
     "language": "python",
     "metadata": {},
     "outputs": [],
     "prompt_number": 5
    },
    {
     "cell_type": "markdown",
     "metadata": {},
     "source": [
      "Apart form getting the top unrated movies, we will also want to get ratings to particular movies. We will do so with a new mothod in our `RecommendationEngine`.  "
     ]
    },
    {
     "cell_type": "code",
     "collapsed": false,
     "input": [
      "def get_ratings_for_movie_ids(self, user_id, movie_ids):\n",
      "    \"\"\"\n",
      "    Recommends predicted ratings for a series of movie_ids for user_id \n",
      "    \"\"\"\n",
      "    pass\n",
      "\n",
      "# Attach the function to a class method\n",
      "RecommendationEngine.get_ratings_for_movie_ids = get_ratings_for_movie_ids"
     ],
     "language": "python",
     "metadata": {},
     "outputs": []
    },
    {
     "cell_type": "heading",
     "level": 2,
     "metadata": {},
     "source": [
      "Building a web API around our engine using Flask"
     ]
    },
    {
     "cell_type": "markdown",
     "metadata": {},
     "source": [
      "[Flask](http://flask.pocoo.org/) is a web microframework for Python. It is very easy to start up a web API, by just importing in in our script and using some annotations to associate our service end-points with Python functions. In our case we will wrap our `RecommendationEngine` methods around some of these end-points and interchange `JSON` formatted data with the web client.  "
     ]
    },
    {
     "cell_type": "markdown",
     "metadata": {},
     "source": [
      "In fact is so simple that we will show the whole `app.py` here, instead of going piece by piece."
     ]
    },
    {
     "cell_type": "code",
     "collapsed": false,
     "input": [
      "from flask import Blueprint\n",
      "main = Blueprint('main', __name__)\n",
      "\n",
      "import json\n",
      "from engine import RecommendationEngine\n",
      "\n",
      "import logging\n",
      "logging.basicConfig(level=logging.INFO)\n",
      "logger = logging.getLogger(__name__)\n",
      "\n",
      "from flask import Flask, request\n",
      "\n",
      "@main.route(\"/<user_id>/ratings/top/<count>\", methods=[\"GET\"])\n",
      "def top_ratings():\n",
      "    logger.debug(\"User %s TOP ratings requested\" % user_id)\n",
      "    top_ratings = recommendation_engine.get_top_recommendations(user_id,count)\n",
      "    return json.dumps(top_ratings)\n",
      "\n",
      "@main.route(\"/<user_id>/ratings/<movie_id>\", methods=[\"GET\"])\n",
      "def movie_ratings():\n",
      "    logger.debug(\"User %s rating requested for movie %s\" % user_id, movie_id)\n",
      "    ratings = recommendation_engine.get_ratings_for_movie_ids(user_id, [movie_id])\n",
      "    return json.dumps(ratings)\n",
      "\n",
      "\n",
      "@main.route(\"/<user_id>/ratings\", methods = [\"POST\"])\n",
      "def add_ratings():\n",
      "    # get the ratings from the Flask POST request object\n",
      "    ratings_list = request.form.keys()[0].strip().split(\"\\n\")\n",
      "    ratings_list = map(lambda x: x.split(\",\"), ratings_list)\n",
      "    # create a list with the format required by the negine (user_id, movie_id, rating)\n",
      "    ratings = map(lambda x: (user_id, int(x[0]), float(x[1])), ratings_list)\n",
      "    # add them to the model using then engine API\n",
      "    recommendation_engine.add_ratings(ratings)\n",
      "\n",
      "    return json.dumps(ratings)\n",
      "\n",
      "\n",
      "def create_app(spark_context):\n",
      "    global recommendation_engine \n",
      "    recommendation_engine = RecommendationEngine(spark_context)    \n",
      "    \n",
      "    app = Flask(__name__)\n",
      "    app.register_blueprint(main)\n",
      "    return app "
     ],
     "language": "python",
     "metadata": {},
     "outputs": []
    },
    {
     "cell_type": "markdown",
     "metadata": {},
     "source": [
      "Basically we use the app as follows:  \n",
      "\n",
      "- We init the thing when calling `create_app`. Here the `RecommendationEngine` object is created and then we associate the `@main.route` annotations defined above.  \n",
      "- There are three of these annotations defined, that correspond with the three `RecommendationEngine` methods:  \n",
      "  - `GET /<user_id>/ratings/top` get top recommendations from the engine.  \n",
      "  - `GET /<user_id>/ratings` get predicted rating for a individual movie.  \n",
      "  - `POST /<user_id>/ratings` add new ratings. The format is a series of lines with `movie_id` and `rating` separated by commas. For example, the following file corresponds to the ten new user ratings used as a example in the tutorial about building the model:    \n",
      " "
     ]
    },
    {
     "cell_type": "raw",
     "metadata": {},
     "source": [
      "260,9\n",
      "1,8\n",
      "16,7\n",
      "25,8\n",
      "32,9\n",
      "335,4\n",
      "379,3\n",
      "296,7\n",
      "858,10\n",
      "50,8\n"
     ]
    },
    {
     "cell_type": "heading",
     "level": 2,
     "metadata": {},
     "source": [
      "Deploying a WSGI server using CherryPy"
     ]
    },
    {
     "cell_type": "markdown",
     "metadata": {},
     "source": [
      "Among other things, the [CherryPy framework](http://www.cherrypy.org/) features a reliable, HTTP/1.1-compliant, WSGI thread-pooled webserver. It is also easy to run multiple HTTP servers (e.g. on multiple ports) at once. All this makes it a perfect candidate for an easy to deploy production web server for our on-line recommendation service.  "
     ]
    },
    {
     "cell_type": "heading",
     "level": 3,
     "metadata": {},
     "source": [
      "Some considerations when using multiple Scripts and Spark-submit"
     ]
    },
    {
     "cell_type": "markdown",
     "metadata": {},
     "source": [
      "[explain the pythonList param]"
     ]
    },
    {
     "cell_type": "markdown",
     "metadata": {},
     "source": [
      "[explain that we cannot pass object methods to RDD transformation map, filter, etc]"
     ]
    },
    {
     "cell_type": "heading",
     "level": 3,
     "metadata": {},
     "source": [
      "Server configuration and initialisation"
     ]
    },
    {
     "cell_type": "code",
     "collapsed": false,
     "input": [],
     "language": "python",
     "metadata": {},
     "outputs": [],
     "prompt_number": 1
    },
    {
     "cell_type": "heading",
     "level": 3,
     "metadata": {},
     "source": [
      "Running the server with Spark"
     ]
    },
    {
     "cell_type": "code",
     "collapsed": false,
     "input": [],
     "language": "python",
     "metadata": {},
     "outputs": []
    },
    {
     "cell_type": "heading",
     "level": 2,
     "metadata": {},
     "source": [
      "Getting the source code"
     ]
    },
    {
     "cell_type": "markdown",
     "metadata": {},
     "source": [
      "The source code for the three Python files, together with additional files, that compose our web service can be found in the following GISTs."
     ]
    },
    {
     "cell_type": "markdown",
     "metadata": {},
     "source": [
      "#### `engine.py`: "
     ]
    },
    {
     "cell_type": "markdown",
     "metadata": {},
     "source": [
      "#### `app.py`: https://gist.github.com/jadianes/b807b865fb7b26bc5e60"
     ]
    },
    {
     "cell_type": "markdown",
     "metadata": {},
     "source": [
      "####`server.py`: "
     ]
    },
    {
     "cell_type": "markdown",
     "metadata": {},
     "source": [
      "####`start_server.sh`: "
     ]
    },
    {
     "cell_type": "markdown",
     "metadata": {},
     "source": [
      "####`new_ratings.file`:"
     ]
    },
    {
     "cell_type": "code",
     "collapsed": false,
     "input": [],
     "language": "python",
     "metadata": {},
     "outputs": []
    }
   ],
   "metadata": {}
  }
 ]
}